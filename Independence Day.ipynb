{
 "cells": [
  {
   "cell_type": "markdown",
   "metadata": {
    "colab_type": "text",
    "id": "PIKQyjbmGy9c"
   },
   "source": [
    "## Happy Independance Day"
   ]
  },
  {
   "cell_type": "code",
   "execution_count": 9,
   "metadata": {
    "colab": {
     "base_uri": "https://localhost:8080/",
     "height": 320
    },
    "colab_type": "code",
    "id": "21qaCDWtGuWu",
    "outputId": "4bd4917a-cb94-4eec-8707-760bcac3ee27"
   },
   "outputs": [
    {
     "data": {
      "image/png": "[encoded data removed]",
      "text/plain": [
       "<Figure size 432x288 with 1 Axes>"
      ]
     },
     "metadata": {
      "needs_background": "light"
     },
     "output_type": "display_data"
    },
    {
     "name": "stdout",
     "output_type": "stream",
     "text": [
      "Jai Hind\n",
      "Vande Mataram\n",
      "\n",
      "Freedom is never dear at any price. It is the breath of life. What would a man not pay for living?\n",
      "\n",
      "~Mahatma Gandhi\n"
     ]
    }
   ],
   "source": [
    "import numpy as np\n",
    "import matplotlib.pyplot as plt\n",
    "import matplotlib.patches as patch\n",
    "\n",
    "\n",
    "# Tricolor of Indian National Flag\n",
    "\n",
    "green = patch.Rectangle((0,0), width=10, height=2, facecolor='g')# Green Colour = depicting the fertility, growth and auspiciousness of the land\n",
    "white = patch.Rectangle((0,2), width=10, height=2, facecolor='white') # White Colour = Peace & Truth\n",
    "kesari = patch.Rectangle((0,4), width=10, height=2, facecolor='#ed8824') # Kesariya Colour = strength and courage of the country\n",
    "fig,ax = plt.subplots()\n",
    "ax.add_patch(green)\n",
    "ax.add_patch(white)\n",
    "ax.add_patch(kesari)\n",
    "\n",
    "# Ashok Chakra\n",
    "r=0.8\n",
    "plt.plot(5,3, marker = 'o', markerfacecolor = '#000088ff', markersize = 10)\n",
    "ashoka_chakra = plt.Circle((5, 3), r, color='#000088ff', fill=False, linewidth=7)\n",
    "ax.add_artist(ashoka_chakra)\n",
    "\n",
    "# Small circle of Ashok Chakra\n",
    "\n",
    "chakra_circles_x = []\n",
    "chakra_circles_y = []\n",
    "\n",
    "\n",
    "for i in range(1,25):\n",
    "    chakra_circles_x.append(5+(r-0.05) * np.cos(np.pi/24 + np.pi*i/12))\n",
    "    chakra_circles_y.append(3+(r-0.05) * np.sin(np.pi/24 + np.pi*i/12))\n",
    "\n",
    "\n",
    "plt.plot(chakra_circles_x, chakra_circles_y, 'o',\n",
    "         markersize=4,\n",
    "         markerfacecolor='#000088ff',\n",
    "         markeredgecolor = '#000088ff')\n",
    "\n",
    "# (24) Lines Inside Ashok Chakra\n",
    "for i in range(0,24):\n",
    "    x1 =  5 + r/2 * np.cos(np.pi*i/12 + np.pi/48)\n",
    "    x2 =  5 + r/2 * np.cos(np.pi*i/12 - np.pi/48)\n",
    "    y1 =  3 + r/2 * np.sin(np.pi*i/12 + np.pi/48)\n",
    "    y2 =  3 + r/2 * np.sin(np.pi*i/12 - np.pi/48)\n",
    "    x3 =  5 + r * np.cos(np.pi*i/12)\n",
    "    y3 =  3 + r * np.sin(np.pi*i/12)\n",
    "    ax.add_patch(patch.Polygon([[5,3], [x1,y1], [x3,y3],[x2,y2]], fill=True, closed=True, color='#000088ff'))\n",
    "\n",
    "plt.axis('equal')\n",
    "\n",
    "# Message\n",
    "\n",
    "plt.show()\n",
    "print(\"Jai Hind\\nVande Mataram\")\n",
    "\n",
    "print(\"\\nFreedom is never dear at any price. It is the breath of life. What would a man not pay for living?\\n\\n~Mahatma Gandhi\")"
   ]
  },
  {
   "cell_type": "markdown",
   "metadata": {
    "colab": {},
    "colab_type": "code",
    "id": "N148JKSRIS4-"
   },
   "source": [
    "### ~ From a Newbie Python Programmer / Student"
   ]
  }
 ],
 "metadata": {
  "colab": {
   "collapsed_sections": [],
   "name": "Republic_Day_2020.ipynb",
   "provenance": []
  },
  "kernelspec": {
   "display_name": "Python 3",
   "language": "python",
   "name": "python3"
  },
  "language_info": {
   "codemirror_mode": {
    "name": "ipython",
    "version": 3
   },
   "file_extension": ".py",
   "mimetype": "text/x-python",
   "name": "python",
   "nbconvert_exporter": "python",
   "pygments_lexer": "ipython3",
   "version": "3.8.3"
  }
 },
 "nbformat": 4,
 "nbformat_minor": 1
}
